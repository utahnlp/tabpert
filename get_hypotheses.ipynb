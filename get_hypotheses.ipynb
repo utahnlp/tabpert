{
 "cells": [
  {
   "cell_type": "code",
   "execution_count": 2,
   "metadata": {},
   "outputs": [],
   "source": [
    "import os\n",
    "# from typing import OrderedDict\n",
    "from collections import OrderedDict\n",
    "import pandas as pd\n",
    "import numpy as np\n",
    "import pprintpp\n",
    "import csv\n",
    "import json\n",
    "import sys\n",
    "import os\n",
    "import requests\n",
    "import re,csv\n",
    "import json\n",
    "import numpy as np\n",
    "import collections"
   ]
  },
  {
   "cell_type": "code",
   "execution_count": 3,
   "metadata": {},
   "outputs": [],
   "source": [
    "tables_list = os.listdir(\"./initial_dataset/tables/\")\n",
    "tables_list_ids = [x[:-5] for x in tables_list]\n",
    "tables_list_A = [x[:-5] + 'A.json' for x in tables_list]\n",
    "tables_list_B = [x[:-5] + 'B.json' for x in tables_list]\n",
    "tables_list_C = [x[:-5] + 'C.json' for x in tables_list]\n",
    "tables_list = tables_list_A + tables_list_B + tables_list_C"
   ]
  },
  {
   "cell_type": "code",
   "execution_count": 3,
   "metadata": {},
   "outputs": [],
   "source": [
    "for filename in tables_list:\n",
    "    os.rename(\"./initialised_dataset/json/\" + filename, \"./initialised_dataset/filtered_json/\" + filename)"
   ]
  },
  {
   "cell_type": "code",
   "execution_count": 27,
   "metadata": {},
   "outputs": [],
   "source": [
    "original_hypotheses_filename = \"/home/nupur/infotabs-extension/infotabs-code/data/maindata/infotabs_test_alpha1.tsv\"\n",
    "outfile = './original_hypotheses.tsv'\n",
    "with open(original_hypotheses_filename, 'r') as infile:\n",
    "    writer = csv.writer(open(outfile,'w'),delimiter='\\t')\n",
    "    header = ['table_id', 'hypothesis', 'label']\n",
    "    writer.writerow(header)\n",
    "    df = pd.read_csv(original_hypotheses_filename,delimiter=\"\\t\", encoding='utf-8')\n",
    "    df = df[['table_id', 'hypothesis', 'label']]\n",
    "    df[df['table_id'].isin(tables_list_ids)].to_csv(outfile, sep='\\t', index=False)\n",
    "    # for id in tables_list_ids:\n",
    "    #     original_rows = [row for row in df if row['table_id']== id]\n",
    "    #     print(original_rows)\n",
    "    #     for row in original_rows:\n",
    "    #         print(row)\n",
    "    #     writer.writerows(original_rows)"
   ]
  }
 ],
 "metadata": {
  "interpreter": {
   "hash": "8c4af189932d3585a6200ac8cf635e825c35bd58b3ab9acfeb31c15c5941d1e4"
  },
  "kernelspec": {
   "display_name": "Python 3.8.3 64-bit ('base': conda)",
   "name": "python3"
  },
  "language_info": {
   "codemirror_mode": {
    "name": "ipython",
    "version": 3
   },
   "file_extension": ".py",
   "mimetype": "text/x-python",
   "name": "python",
   "nbconvert_exporter": "python",
   "pygments_lexer": "ipython3",
   "version": "3.8.3"
  },
  "orig_nbformat": 4
 },
 "nbformat": 4,
 "nbformat_minor": 2
}
